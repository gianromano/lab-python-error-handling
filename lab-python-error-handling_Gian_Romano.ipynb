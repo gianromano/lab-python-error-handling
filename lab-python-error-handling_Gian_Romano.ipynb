{
 "cells": [
  {
   "cell_type": "markdown",
   "id": "25d7736c-ba17-4aff-b6bb-66eba20fbf4e",
   "metadata": {},
   "source": [
    "# Lab | Error Handling"
   ]
  },
  {
   "cell_type": "markdown",
   "id": "bc99b386-7508-47a0-bcdb-d969deaf6c8b",
   "metadata": {},
   "source": [
    "## Exercise: Error Handling for Managing Customer Orders\n",
    "\n",
    "The implementation of your code for managing customer orders assumes that the user will always enter a valid input. \n",
    "\n",
    "For example, we could modify the `initialize_inventory` function to include error handling.\n",
    "   - If the user enters an invalid quantity (e.g., a negative value or a non-numeric value), display an error message and ask them to re-enter the quantity for that product.\n",
    "   - Use a try-except block to handle the error and continue prompting the user until a valid quantity is entered.\n",
    "\n",
    "```python\n",
    "# Step 1: Define the function for initializing the inventory with error handling\n",
    "def initialize_inventory(products):\n",
    "    inventory = {}\n",
    "    for product in products:\n",
    "        valid_quantity = False\n",
    "        while not valid_quantity:\n",
    "            try:\n",
    "                quantity = int(input(f\"Enter the quantity of {product}s available: \"))\n",
    "                if quantity < 0:\n",
    "                    raise ValueError(\"Invalid quantity! Please enter a non-negative value.\")\n",
    "                valid_quantity = True\n",
    "            except ValueError as error:\n",
    "                print(f\"Error: {error}\")\n",
    "        inventory[product] = quantity\n",
    "    return inventory\n",
    "\n",
    "# Or, in another way:\n",
    "\n",
    "def initialize_inventory(products):\n",
    "    inventory = {}\n",
    "    for product in products:\n",
    "        valid_input = False\n",
    "        while not valid_input:\n",
    "            try:\n",
    "                quantity = int(input(f\"Enter the quantity of {product}s available: \"))\n",
    "                if quantity >= 0:\n",
    "                    inventory[product] = quantity\n",
    "                    valid_input = True\n",
    "                else:\n",
    "                    print(\"Quantity cannot be negative. Please enter a valid quantity.\")\n",
    "            except ValueError:\n",
    "                print(\"Invalid input. Please enter a valid quantity.\")\n",
    "    return inventory\n",
    "```\n",
    "\n",
    "Let's enhance your code by implementing error handling to handle invalid inputs.\n",
    "\n",
    "Follow the steps below to complete the exercise:\n",
    "\n",
    "2. Modify the `calculate_total_price` function to include error handling.\n",
    "   - If the user enters an invalid price (e.g., a negative value or a non-numeric value), display an error message and ask them to re-enter the price for that product.\n",
    "   - Use a try-except block to handle the error and continue prompting the user until a valid price is entered.\n",
    "\n",
    "3. Modify the `get_customer_orders` function to include error handling.\n",
    "   - If the user enters an invalid number of orders (e.g., a negative value or a non-numeric value), display an error message and ask them to re-enter the number of orders.\n",
    "   - If the user enters an invalid product name (e.g., a product name that is not in the inventory), or that doesn't have stock available, display an error message and ask them to re-enter the product name. *Hint: you will need to pass inventory as a parameter*\n",
    "   - Use a try-except block to handle the error and continue prompting the user until a valid product name is entered.\n",
    "\n",
    "4. Test your code by running the program and deliberately entering invalid quantities and product names. Make sure the error handling mechanism works as expected.\n"
   ]
  },
  {
   "cell_type": "code",
   "execution_count": 214,
   "id": "f9b3ce3f",
   "metadata": {},
   "outputs": [],
   "source": [
    "# 2. Modify the calculate_total_price function to include error handling. Re-enter the price for that product\n",
    "customer_orders = ['mug', 'hat', 'book']\n",
    "def calculate_total_price(customer_orders):\n",
    "    total = 0\n",
    "    for product in customer_orders:\n",
    "        valid_input = False\n",
    "        while not valid_input:\n",
    "            try:\n",
    "                price_of_product = float(input(f\"Enter the price of {product}: \"))\n",
    "                if price_of_product <= 0:\n",
    "                    raise ValueError(\"Invalid input.\") \n",
    "                total = total + price_of_product\n",
    "                print(total)\n",
    "                valid_input = True\n",
    "            except ValueError as e:\n",
    "                print(\"Invalid input. Please try again.\")\n",
    "\n",
    "    print(\"Thank for shopping in our store\") \n",
    "    print(f\"Total Purchase: \")\n",
    "    print(total)\n",
    "    return total "
   ]
  },
  {
   "cell_type": "code",
   "execution_count": 219,
   "id": "44b859cc",
   "metadata": {},
   "outputs": [],
   "source": [
    "# 3. Modify the get_customer_orders function to include error handling\n",
    "inventory = {'t-shirt': 5, 'mug': 4, 'hat': 3, 'book': 2, 'keychain': 1}\n",
    "def get_customer_orders(inventory):\n",
    "    valid_answers = [\"yes\", \"no\"]\n",
    "    customer_orders = {}\n",
    "    continue_shopping = 'yes' \n",
    "    while continue_shopping == 'yes':\n",
    "        try:\n",
    "            product = input(\"Please enter the name of the product you want to buy. Please choose from: \" + ', '.join(products))\n",
    "            if product not in inventory.keys():\n",
    "                raise ValueError(\"Invalid product entered. Please choose from: \" + ', '.join(products))              \n",
    "            quantity = int(input(\"Please enter the quantity of the product you want to buy: \"))\n",
    "            if quantity <= 0:\n",
    "                raise ValueError(\"Invalid input.\")\n",
    "            if inventory[product] < quantity:\n",
    "                raise ValueError(\"Not enough stock.\")\n",
    "                \n",
    "            customer_orders[product] = quantity\n",
    "            inventory[product] -= quantity\n",
    "\n",
    "            if inventory[product] == 0:\n",
    "                inventory.pop(product)\n",
    "            print(inventory)\n",
    "\n",
    "        except ValueError as e:\n",
    "            print(str(e))\n",
    "            print(\"Please try again.\")\n",
    "            print(inventory)\n",
    "\n",
    "        continue_shopping = input(\"Would you like to continue shopping? (yes/no): \").lower()\n",
    "        while continue_shopping not in valid_answers:\n",
    "            print(\"Invalid input. Please enter 'yes' or 'no'.\")\n",
    "            continue_shopping = input(\"Would you like to continue shopping? (yes/no):\").lower()\n",
    "        if customer_orders != {}:\n",
    "            print(\"Customer Orders:\", customer_orders)\n",
    "    return customer_orders  \n",
    "      "
   ]
  },
  {
   "cell_type": "code",
   "execution_count": 216,
   "id": "382ec5e3-9b62-4682-9308-79068385cbe2",
   "metadata": {},
   "outputs": [
    {
     "name": "stdin",
     "output_type": "stream",
     "text": [
      "Enter the price of mug:  -34.76\n"
     ]
    },
    {
     "name": "stdout",
     "output_type": "stream",
     "text": [
      "Invalid input. Please try again.\n"
     ]
    },
    {
     "name": "stdin",
     "output_type": "stream",
     "text": [
      "Enter the price of mug:  34.76\n"
     ]
    },
    {
     "name": "stdout",
     "output_type": "stream",
     "text": [
      "34.76\n"
     ]
    },
    {
     "name": "stdin",
     "output_type": "stream",
     "text": [
      "Enter the price of hat:  0\n"
     ]
    },
    {
     "name": "stdout",
     "output_type": "stream",
     "text": [
      "Invalid input. Please try again.\n"
     ]
    },
    {
     "name": "stdin",
     "output_type": "stream",
     "text": [
      "Enter the price of hat:  23.90\n"
     ]
    },
    {
     "name": "stdout",
     "output_type": "stream",
     "text": [
      "58.66\n"
     ]
    },
    {
     "name": "stdin",
     "output_type": "stream",
     "text": [
      "Enter the price of book:  BadEntry\n"
     ]
    },
    {
     "name": "stdout",
     "output_type": "stream",
     "text": [
      "Invalid input. Please try again.\n"
     ]
    },
    {
     "name": "stdin",
     "output_type": "stream",
     "text": [
      "Enter the price of book:  12.69\n"
     ]
    },
    {
     "name": "stdout",
     "output_type": "stream",
     "text": [
      "71.35\n",
      "Thank for shopping in our store\n",
      "Total Purchase: \n",
      "71.35\n"
     ]
    }
   ],
   "source": [
    "# Testing calculate_total_price\n",
    "total = calculate_total_price(customer_orders)"
   ]
  },
  {
   "cell_type": "code",
   "execution_count": 220,
   "id": "87dcf68e-fb4e-4397-aca7-e9cfd21115bc",
   "metadata": {},
   "outputs": [
    {
     "name": "stdin",
     "output_type": "stream",
     "text": [
      "Please enter the name of the product you want to buy. Please choose from: t-shirt, mug, hat, book, keychain hat\n",
      "Please enter the quantity of the product you want to buy:  -23\n"
     ]
    },
    {
     "name": "stdout",
     "output_type": "stream",
     "text": [
      "Invalid input.\n",
      "Please try again.\n",
      "{'t-shirt': 5, 'mug': 4, 'hat': 3, 'book': 2, 'keychain': 1}\n"
     ]
    },
    {
     "name": "stdin",
     "output_type": "stream",
     "text": [
      "Would you like to continue shopping? (yes/no):  0\n"
     ]
    },
    {
     "name": "stdout",
     "output_type": "stream",
     "text": [
      "Invalid input. Please enter 'yes' or 'no'.\n"
     ]
    },
    {
     "name": "stdin",
     "output_type": "stream",
     "text": [
      "Would you like to continue shopping? (yes/no): BAdEntry\n"
     ]
    },
    {
     "name": "stdout",
     "output_type": "stream",
     "text": [
      "Invalid input. Please enter 'yes' or 'no'.\n"
     ]
    },
    {
     "name": "stdin",
     "output_type": "stream",
     "text": [
      "Would you like to continue shopping? (yes/no): yes\n",
      "Please enter the name of the product you want to buy. Please choose from: t-shirt, mug, hat, book, keychain mug\n",
      "Please enter the quantity of the product you want to buy:  0\n"
     ]
    },
    {
     "name": "stdout",
     "output_type": "stream",
     "text": [
      "Invalid input.\n",
      "Please try again.\n",
      "{'t-shirt': 5, 'mug': 4, 'hat': 3, 'book': 2, 'keychain': 1}\n"
     ]
    },
    {
     "name": "stdin",
     "output_type": "stream",
     "text": [
      "Would you like to continue shopping? (yes/no):  yes\n",
      "Please enter the name of the product you want to buy. Please choose from: t-shirt, mug, hat, book, keychain mug\n",
      "Please enter the quantity of the product you want to buy:  4\n"
     ]
    },
    {
     "name": "stdout",
     "output_type": "stream",
     "text": [
      "{'t-shirt': 5, 'hat': 3, 'book': 2, 'keychain': 1}\n"
     ]
    },
    {
     "name": "stdin",
     "output_type": "stream",
     "text": [
      "Would you like to continue shopping? (yes/no):  keychain\n"
     ]
    },
    {
     "name": "stdout",
     "output_type": "stream",
     "text": [
      "Invalid input. Please enter 'yes' or 'no'.\n"
     ]
    },
    {
     "name": "stdin",
     "output_type": "stream",
     "text": [
      "Would you like to continue shopping? (yes/no): yes\n"
     ]
    },
    {
     "name": "stdout",
     "output_type": "stream",
     "text": [
      "Customer Orders: {'mug': 4}\n"
     ]
    },
    {
     "name": "stdin",
     "output_type": "stream",
     "text": [
      "Please enter the name of the product you want to buy. Please choose from: t-shirt, mug, hat, book, keychain hat\n",
      "Please enter the quantity of the product you want to buy:  -54\n"
     ]
    },
    {
     "name": "stdout",
     "output_type": "stream",
     "text": [
      "Invalid input.\n",
      "Please try again.\n",
      "{'t-shirt': 5, 'hat': 3, 'book': 2, 'keychain': 1}\n"
     ]
    },
    {
     "name": "stdin",
     "output_type": "stream",
     "text": [
      "Would you like to continue shopping? (yes/no):  yes\n"
     ]
    },
    {
     "name": "stdout",
     "output_type": "stream",
     "text": [
      "Customer Orders: {'mug': 4}\n"
     ]
    },
    {
     "name": "stdin",
     "output_type": "stream",
     "text": [
      "Please enter the name of the product you want to buy. Please choose from: t-shirt, mug, hat, book, keychain hat\n",
      "Please enter the quantity of the product you want to buy:  3\n"
     ]
    },
    {
     "name": "stdout",
     "output_type": "stream",
     "text": [
      "{'t-shirt': 5, 'book': 2, 'keychain': 1}\n"
     ]
    },
    {
     "name": "stdin",
     "output_type": "stream",
     "text": [
      "Would you like to continue shopping? (yes/no):  no\n"
     ]
    },
    {
     "name": "stdout",
     "output_type": "stream",
     "text": [
      "Customer Orders: {'mug': 4, 'hat': 3}\n"
     ]
    }
   ],
   "source": [
    "# 4.Testing customer orders\n",
    "customer_orders = get_customer_orders(inventory) "
   ]
  }
 ],
 "metadata": {
  "kernelspec": {
   "display_name": "Python 3 (ipykernel)",
   "language": "python",
   "name": "python3"
  },
  "language_info": {
   "codemirror_mode": {
    "name": "ipython",
    "version": 3
   },
   "file_extension": ".py",
   "mimetype": "text/x-python",
   "name": "python",
   "nbconvert_exporter": "python",
   "pygments_lexer": "ipython3",
   "version": "3.11.7"
  }
 },
 "nbformat": 4,
 "nbformat_minor": 5
}
